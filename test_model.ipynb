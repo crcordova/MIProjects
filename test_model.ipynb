{
 "cells": [
  {
   "cell_type": "code",
   "execution_count": 1,
   "metadata": {},
   "outputs": [],
   "source": [
    "from models.snackpack import Snackpack\n",
    "from models.schedule import Scheduler\n",
    "import pandas as pd"
   ]
  },
  {
   "attachments": {},
   "cell_type": "markdown",
   "metadata": {},
   "source": [
    "## Problem 1) Load truck"
   ]
  },
  {
   "cell_type": "code",
   "execution_count": 2,
   "metadata": {},
   "outputs": [],
   "source": [
    "df_products = pd.read_csv(\"data\\Productos.csv\", usecols=[0,1,2,3])\n",
    "\n",
    "volumne_max = 180\n",
    "weight_max = 40"
   ]
  },
  {
   "cell_type": "code",
   "execution_count": 3,
   "metadata": {},
   "outputs": [
    {
     "name": "stdout",
     "output_type": "stream",
     "text": [
      "#############################################\n",
      "[OPTIMAL] optimal solution profit 487.757153583 found\n",
      "selected items: ['A', 'C', 'E', 'F', 'G', 'H', 'K', 'S', 'N']\n"
     ]
    },
    {
     "data": {
      "text/plain": [
       "['A', 'C', 'E', 'F', 'G', 'H', 'K', 'S', 'N']"
      ]
     },
     "execution_count": 3,
     "metadata": {},
     "output_type": "execute_result"
    }
   ],
   "source": [
    "modelo = Snackpack()\n",
    "modelo.parameters(df_products, volumne_max, weight_max)\n",
    "modelo.variables()\n",
    "modelo.constrains()\n",
    "modelo.objetive()\n",
    "modelo.run_model()\n",
    "modelo.print_result()"
   ]
  },
  {
   "attachments": {},
   "cell_type": "markdown",
   "metadata": {},
   "source": [
    "## Problem 2) Scheduler Assignment"
   ]
  },
  {
   "cell_type": "code",
   "execution_count": 4,
   "metadata": {},
   "outputs": [],
   "source": [
    "df_demand = pd.read_csv(\"data\\scheduler - demand.csv\")\n",
    "df_availability = pd.read_csv(\"data\\scheduler - availability.csv\").set_index('Person')\n",
    "collaborators = df_availability.index.unique().tolist()"
   ]
  },
  {
   "cell_type": "code",
   "execution_count": 5,
   "metadata": {},
   "outputs": [],
   "source": [
    "def prep_data(df_demand):\n",
    "    df_demand['fecha'] = pd.to_datetime(df_demand['fecha'])\n",
    "    df_demand['Week'] = df_demand['fecha'].apply(lambda x: x.isocalendar().week)\n",
    "    df_demand['Day'] = df_demand['fecha'].apply(lambda x: x.isocalendar().weekday - 1)\n",
    "    week_list = df_demand['Week'].unique().tolist()\n",
    "    df_demand = df_demand.drop(columns=['fecha']).set_index(['Week','Day'])\n",
    "    periods = range(len(df_demand.columns))\n",
    "    return (df_demand, week_list, periods)\n"
   ]
  },
  {
   "cell_type": "code",
   "execution_count": 6,
   "metadata": {},
   "outputs": [],
   "source": [
    "availability_dict = {}\n",
    "for i, row in df_availability.iterrows():\n",
    "    availability_dict[i] = row.tolist()"
   ]
  },
  {
   "cell_type": "code",
   "execution_count": 7,
   "metadata": {},
   "outputs": [],
   "source": [
    "df_demand, weeks, periods = prep_data(df_demand)\n",
    "demand_dict_w = {}\n",
    "demand_dict_d = {}\n",
    "for i, row in df_demand.iterrows():\n",
    "    demand_dict_d[i[1]] = row.tolist()\n",
    "    demand_dict_w[i[0]] = demand_dict_d"
   ]
  },
  {
   "cell_type": "code",
   "execution_count": 8,
   "metadata": {},
   "outputs": [
    {
     "name": "stdout",
     "output_type": "stream",
     "text": [
      "#############################################\n",
      "[OPTIMAL] optimal solution profit 880.0 found\n"
     ]
    }
   ],
   "source": [
    "modelo = Scheduler()\n",
    "modelo.add_sets(weeks, periods)\n",
    "modelo.parameters(collaborators, demand_dict_w, availability_dict)\n",
    "modelo.variables()\n",
    "modelo.constrains()\n",
    "modelo.objetive()\n",
    "modelo.run_model()"
   ]
  },
  {
   "cell_type": "code",
   "execution_count": 9,
   "metadata": {},
   "outputs": [
    {
     "name": "stdout",
     "output_type": "stream",
     "text": [
      "Collaborador A week:6, day:0, periodo:0\n",
      "Collaborador A week:6, day:1, periodo:0\n",
      "Collaborador A week:6, day:2, periodo:0\n",
      "Collaborador A week:6, day:3, periodo:2\n",
      "Collaborador A week:6, day:4, periodo:0\n",
      "Collaborador B week:6, day:1, periodo:0\n",
      "Collaborador B week:6, day:3, periodo:0\n",
      "Collaborador B week:6, day:4, periodo:1\n",
      "Collaborador B week:6, day:5, periodo:0\n",
      "Collaborador B week:6, day:6, periodo:1\n",
      "Collaborador C week:6, day:0, periodo:2\n",
      "Collaborador C week:6, day:1, periodo:1\n",
      "Collaborador C week:6, day:3, periodo:1\n",
      "Collaborador C week:6, day:5, periodo:1\n",
      "Collaborador C week:6, day:6, periodo:1\n",
      "Collaborador D week:6, day:0, periodo:2\n",
      "Collaborador D week:6, day:2, periodo:2\n",
      "Collaborador D week:6, day:3, periodo:2\n",
      "Collaborador D week:6, day:4, periodo:2\n",
      "Collaborador D week:6, day:5, periodo:2\n",
      "Collaborador E week:6, day:0, periodo:1\n",
      "Collaborador E week:6, day:3, periodo:1\n",
      "Collaborador E week:6, day:4, periodo:1\n",
      "Collaborador E week:6, day:5, periodo:1\n",
      "Collaborador E week:6, day:6, periodo:1\n",
      "Collaborador F week:6, day:2, periodo:0\n",
      "Collaborador F week:6, day:3, periodo:0\n",
      "Collaborador F week:6, day:4, periodo:0\n",
      "Collaborador F week:6, day:5, periodo:0\n",
      "Collaborador F week:6, day:6, periodo:0\n",
      "Collaborador G week:6, day:0, periodo:0\n",
      "Collaborador G week:6, day:1, periodo:2\n",
      "Collaborador G week:6, day:4, periodo:1\n",
      "Collaborador G week:6, day:5, periodo:0\n",
      "Collaborador G week:6, day:6, periodo:1\n",
      "Collaborador H week:6, day:1, periodo:1\n",
      "Collaborador H week:6, day:2, periodo:1\n",
      "Collaborador H week:6, day:4, periodo:0\n",
      "Collaborador H week:6, day:5, periodo:1\n",
      "Collaborador H week:6, day:6, periodo:0\n",
      "Collaborador I week:6, day:0, periodo:2\n",
      "Collaborador I week:6, day:1, periodo:2\n",
      "Collaborador I week:6, day:4, periodo:1\n",
      "Collaborador I week:6, day:5, periodo:1\n",
      "Collaborador I week:6, day:6, periodo:1\n",
      "Collaborador J week:6, day:1, periodo:0\n",
      "Collaborador J week:6, day:2, periodo:0\n",
      "Collaborador J week:6, day:4, periodo:0\n",
      "Collaborador J week:6, day:5, periodo:2\n",
      "Collaborador J week:6, day:6, periodo:0\n",
      "Collaborador K week:6, day:1, periodo:1\n",
      "Collaborador K week:6, day:2, periodo:2\n",
      "Collaborador K week:6, day:3, periodo:2\n",
      "Collaborador K week:6, day:4, periodo:2\n",
      "Collaborador K week:6, day:6, periodo:1\n",
      "Collaborador L week:6, day:0, periodo:1\n",
      "Collaborador L week:6, day:1, periodo:0\n",
      "Collaborador L week:6, day:2, periodo:1\n",
      "Collaborador L week:6, day:4, periodo:1\n",
      "Collaborador L week:6, day:6, periodo:2\n",
      "Collaborador M week:6, day:1, periodo:2\n",
      "Collaborador M week:6, day:2, periodo:2\n",
      "Collaborador M week:6, day:4, periodo:2\n",
      "Collaborador M week:6, day:5, periodo:2\n",
      "Collaborador M week:6, day:6, periodo:2\n",
      "Collaborador N week:6, day:1, periodo:0\n",
      "Collaborador N week:6, day:2, periodo:0\n",
      "Collaborador N week:6, day:3, periodo:0\n",
      "Collaborador N week:6, day:4, periodo:1\n",
      "Collaborador N week:6, day:6, periodo:1\n",
      "Collaborador O week:6, day:0, periodo:1\n",
      "Collaborador O week:6, day:1, periodo:1\n",
      "Collaborador O week:6, day:2, periodo:1\n",
      "Collaborador O week:6, day:3, periodo:1\n",
      "Collaborador O week:6, day:6, periodo:2\n"
     ]
    }
   ],
   "source": [
    "df_result = modelo.print_result()"
   ]
  },
  {
   "cell_type": "code",
   "execution_count": 10,
   "metadata": {},
   "outputs": [],
   "source": [
    "demand_periods_list =[]\n",
    "for i, row in df_demand.iterrows():\n",
    "    demand_periods_list.extend(row.tolist())"
   ]
  },
  {
   "cell_type": "code",
   "execution_count": 11,
   "metadata": {},
   "outputs": [],
   "source": [
    "df_result_shcedule = pd.pivot_table(df_result.reset_index(), index=['day','period'], aggfunc='count', values='Person')\n",
    "schedule_periods_list = []\n",
    "for i, row in df_result_shcedule.iterrows():\n",
    "    schedule_periods_list.extend(row.tolist())"
   ]
  },
  {
   "cell_type": "code",
   "execution_count": 12,
   "metadata": {},
   "outputs": [],
   "source": [
    "axis_x = []\n",
    "for i in range(len(df_result_shcedule.index)):\n",
    "    axis_x.append(str(df_result_shcedule.index.tolist()[i]))"
   ]
  },
  {
   "cell_type": "code",
   "execution_count": 13,
   "metadata": {},
   "outputs": [],
   "source": [
    "import plotly.graph_objs as go\n",
    "from plotly.subplots import make_subplots\n",
    "\n",
    "trace1 = go.Bar(\n",
    "    x=axis_x,\n",
    "    y=demand_periods_list,\n",
    "    name='Demanda'\n",
    ")\n",
    "trace2 = go.Bar(\n",
    "    x=axis_x,\n",
    "    y=schedule_periods_list,\n",
    "    name='Scheduler'\n",
    ")\n",
    "\n",
    "fig = make_subplots(rows=1, cols=1, shared_xaxes=True)\n",
    "\n",
    "fig.append_trace(trace1, 1, 1)\n",
    "fig.append_trace(trace2, 1,1)"
   ]
  },
  {
   "cell_type": "code",
   "execution_count": 14,
   "metadata": {},
   "outputs": [
    {
     "data": {
      "application/vnd.plotly.v1+json": {
       "config": {
        "plotlyServerURL": "https://plot.ly"
       },
       "data": [
        {
         "name": "Demanda",
         "type": "bar",
         "x": [
          "(0, 0)",
          "(0, 1)",
          "(0, 2)",
          "(1, 0)",
          "(1, 1)",
          "(1, 2)",
          "(2, 0)",
          "(2, 1)",
          "(2, 2)",
          "(3, 0)",
          "(3, 1)",
          "(3, 2)",
          "(4, 0)",
          "(4, 1)",
          "(4, 2)",
          "(5, 0)",
          "(5, 1)",
          "(5, 2)",
          "(6, 0)",
          "(6, 1)",
          "(6, 2)"
         ],
         "xaxis": "x",
         "y": [
          4,
          6,
          6,
          5,
          7,
          6,
          4,
          6,
          5,
          6,
          6,
          5,
          6,
          7,
          5,
          5,
          8,
          6,
          4,
          7,
          5
         ],
         "yaxis": "y"
        },
        {
         "name": "Scheduler",
         "type": "bar",
         "x": [
          "(0, 0)",
          "(0, 1)",
          "(0, 2)",
          "(1, 0)",
          "(1, 1)",
          "(1, 2)",
          "(2, 0)",
          "(2, 1)",
          "(2, 2)",
          "(3, 0)",
          "(3, 1)",
          "(3, 2)",
          "(4, 0)",
          "(4, 1)",
          "(4, 2)",
          "(5, 0)",
          "(5, 1)",
          "(5, 2)",
          "(6, 0)",
          "(6, 1)",
          "(6, 2)"
         ],
         "xaxis": "x",
         "y": [
          2,
          3,
          3,
          5,
          4,
          3,
          4,
          3,
          3,
          3,
          3,
          3,
          4,
          6,
          3,
          3,
          4,
          3,
          3,
          7,
          3
         ],
         "yaxis": "y"
        }
       ],
       "layout": {
        "template": {
         "data": {
          "bar": [
           {
            "error_x": {
             "color": "#2a3f5f"
            },
            "error_y": {
             "color": "#2a3f5f"
            },
            "marker": {
             "line": {
              "color": "#E5ECF6",
              "width": 0.5
             },
             "pattern": {
              "fillmode": "overlay",
              "size": 10,
              "solidity": 0.2
             }
            },
            "type": "bar"
           }
          ],
          "barpolar": [
           {
            "marker": {
             "line": {
              "color": "#E5ECF6",
              "width": 0.5
             },
             "pattern": {
              "fillmode": "overlay",
              "size": 10,
              "solidity": 0.2
             }
            },
            "type": "barpolar"
           }
          ],
          "carpet": [
           {
            "aaxis": {
             "endlinecolor": "#2a3f5f",
             "gridcolor": "white",
             "linecolor": "white",
             "minorgridcolor": "white",
             "startlinecolor": "#2a3f5f"
            },
            "baxis": {
             "endlinecolor": "#2a3f5f",
             "gridcolor": "white",
             "linecolor": "white",
             "minorgridcolor": "white",
             "startlinecolor": "#2a3f5f"
            },
            "type": "carpet"
           }
          ],
          "choropleth": [
           {
            "colorbar": {
             "outlinewidth": 0,
             "ticks": ""
            },
            "type": "choropleth"
           }
          ],
          "contour": [
           {
            "colorbar": {
             "outlinewidth": 0,
             "ticks": ""
            },
            "colorscale": [
             [
              0,
              "#0d0887"
             ],
             [
              0.1111111111111111,
              "#46039f"
             ],
             [
              0.2222222222222222,
              "#7201a8"
             ],
             [
              0.3333333333333333,
              "#9c179e"
             ],
             [
              0.4444444444444444,
              "#bd3786"
             ],
             [
              0.5555555555555556,
              "#d8576b"
             ],
             [
              0.6666666666666666,
              "#ed7953"
             ],
             [
              0.7777777777777778,
              "#fb9f3a"
             ],
             [
              0.8888888888888888,
              "#fdca26"
             ],
             [
              1,
              "#f0f921"
             ]
            ],
            "type": "contour"
           }
          ],
          "contourcarpet": [
           {
            "colorbar": {
             "outlinewidth": 0,
             "ticks": ""
            },
            "type": "contourcarpet"
           }
          ],
          "heatmap": [
           {
            "colorbar": {
             "outlinewidth": 0,
             "ticks": ""
            },
            "colorscale": [
             [
              0,
              "#0d0887"
             ],
             [
              0.1111111111111111,
              "#46039f"
             ],
             [
              0.2222222222222222,
              "#7201a8"
             ],
             [
              0.3333333333333333,
              "#9c179e"
             ],
             [
              0.4444444444444444,
              "#bd3786"
             ],
             [
              0.5555555555555556,
              "#d8576b"
             ],
             [
              0.6666666666666666,
              "#ed7953"
             ],
             [
              0.7777777777777778,
              "#fb9f3a"
             ],
             [
              0.8888888888888888,
              "#fdca26"
             ],
             [
              1,
              "#f0f921"
             ]
            ],
            "type": "heatmap"
           }
          ],
          "heatmapgl": [
           {
            "colorbar": {
             "outlinewidth": 0,
             "ticks": ""
            },
            "colorscale": [
             [
              0,
              "#0d0887"
             ],
             [
              0.1111111111111111,
              "#46039f"
             ],
             [
              0.2222222222222222,
              "#7201a8"
             ],
             [
              0.3333333333333333,
              "#9c179e"
             ],
             [
              0.4444444444444444,
              "#bd3786"
             ],
             [
              0.5555555555555556,
              "#d8576b"
             ],
             [
              0.6666666666666666,
              "#ed7953"
             ],
             [
              0.7777777777777778,
              "#fb9f3a"
             ],
             [
              0.8888888888888888,
              "#fdca26"
             ],
             [
              1,
              "#f0f921"
             ]
            ],
            "type": "heatmapgl"
           }
          ],
          "histogram": [
           {
            "marker": {
             "pattern": {
              "fillmode": "overlay",
              "size": 10,
              "solidity": 0.2
             }
            },
            "type": "histogram"
           }
          ],
          "histogram2d": [
           {
            "colorbar": {
             "outlinewidth": 0,
             "ticks": ""
            },
            "colorscale": [
             [
              0,
              "#0d0887"
             ],
             [
              0.1111111111111111,
              "#46039f"
             ],
             [
              0.2222222222222222,
              "#7201a8"
             ],
             [
              0.3333333333333333,
              "#9c179e"
             ],
             [
              0.4444444444444444,
              "#bd3786"
             ],
             [
              0.5555555555555556,
              "#d8576b"
             ],
             [
              0.6666666666666666,
              "#ed7953"
             ],
             [
              0.7777777777777778,
              "#fb9f3a"
             ],
             [
              0.8888888888888888,
              "#fdca26"
             ],
             [
              1,
              "#f0f921"
             ]
            ],
            "type": "histogram2d"
           }
          ],
          "histogram2dcontour": [
           {
            "colorbar": {
             "outlinewidth": 0,
             "ticks": ""
            },
            "colorscale": [
             [
              0,
              "#0d0887"
             ],
             [
              0.1111111111111111,
              "#46039f"
             ],
             [
              0.2222222222222222,
              "#7201a8"
             ],
             [
              0.3333333333333333,
              "#9c179e"
             ],
             [
              0.4444444444444444,
              "#bd3786"
             ],
             [
              0.5555555555555556,
              "#d8576b"
             ],
             [
              0.6666666666666666,
              "#ed7953"
             ],
             [
              0.7777777777777778,
              "#fb9f3a"
             ],
             [
              0.8888888888888888,
              "#fdca26"
             ],
             [
              1,
              "#f0f921"
             ]
            ],
            "type": "histogram2dcontour"
           }
          ],
          "mesh3d": [
           {
            "colorbar": {
             "outlinewidth": 0,
             "ticks": ""
            },
            "type": "mesh3d"
           }
          ],
          "parcoords": [
           {
            "line": {
             "colorbar": {
              "outlinewidth": 0,
              "ticks": ""
             }
            },
            "type": "parcoords"
           }
          ],
          "pie": [
           {
            "automargin": true,
            "type": "pie"
           }
          ],
          "scatter": [
           {
            "fillpattern": {
             "fillmode": "overlay",
             "size": 10,
             "solidity": 0.2
            },
            "type": "scatter"
           }
          ],
          "scatter3d": [
           {
            "line": {
             "colorbar": {
              "outlinewidth": 0,
              "ticks": ""
             }
            },
            "marker": {
             "colorbar": {
              "outlinewidth": 0,
              "ticks": ""
             }
            },
            "type": "scatter3d"
           }
          ],
          "scattercarpet": [
           {
            "marker": {
             "colorbar": {
              "outlinewidth": 0,
              "ticks": ""
             }
            },
            "type": "scattercarpet"
           }
          ],
          "scattergeo": [
           {
            "marker": {
             "colorbar": {
              "outlinewidth": 0,
              "ticks": ""
             }
            },
            "type": "scattergeo"
           }
          ],
          "scattergl": [
           {
            "marker": {
             "colorbar": {
              "outlinewidth": 0,
              "ticks": ""
             }
            },
            "type": "scattergl"
           }
          ],
          "scattermapbox": [
           {
            "marker": {
             "colorbar": {
              "outlinewidth": 0,
              "ticks": ""
             }
            },
            "type": "scattermapbox"
           }
          ],
          "scatterpolar": [
           {
            "marker": {
             "colorbar": {
              "outlinewidth": 0,
              "ticks": ""
             }
            },
            "type": "scatterpolar"
           }
          ],
          "scatterpolargl": [
           {
            "marker": {
             "colorbar": {
              "outlinewidth": 0,
              "ticks": ""
             }
            },
            "type": "scatterpolargl"
           }
          ],
          "scatterternary": [
           {
            "marker": {
             "colorbar": {
              "outlinewidth": 0,
              "ticks": ""
             }
            },
            "type": "scatterternary"
           }
          ],
          "surface": [
           {
            "colorbar": {
             "outlinewidth": 0,
             "ticks": ""
            },
            "colorscale": [
             [
              0,
              "#0d0887"
             ],
             [
              0.1111111111111111,
              "#46039f"
             ],
             [
              0.2222222222222222,
              "#7201a8"
             ],
             [
              0.3333333333333333,
              "#9c179e"
             ],
             [
              0.4444444444444444,
              "#bd3786"
             ],
             [
              0.5555555555555556,
              "#d8576b"
             ],
             [
              0.6666666666666666,
              "#ed7953"
             ],
             [
              0.7777777777777778,
              "#fb9f3a"
             ],
             [
              0.8888888888888888,
              "#fdca26"
             ],
             [
              1,
              "#f0f921"
             ]
            ],
            "type": "surface"
           }
          ],
          "table": [
           {
            "cells": {
             "fill": {
              "color": "#EBF0F8"
             },
             "line": {
              "color": "white"
             }
            },
            "header": {
             "fill": {
              "color": "#C8D4E3"
             },
             "line": {
              "color": "white"
             }
            },
            "type": "table"
           }
          ]
         },
         "layout": {
          "annotationdefaults": {
           "arrowcolor": "#2a3f5f",
           "arrowhead": 0,
           "arrowwidth": 1
          },
          "autotypenumbers": "strict",
          "coloraxis": {
           "colorbar": {
            "outlinewidth": 0,
            "ticks": ""
           }
          },
          "colorscale": {
           "diverging": [
            [
             0,
             "#8e0152"
            ],
            [
             0.1,
             "#c51b7d"
            ],
            [
             0.2,
             "#de77ae"
            ],
            [
             0.3,
             "#f1b6da"
            ],
            [
             0.4,
             "#fde0ef"
            ],
            [
             0.5,
             "#f7f7f7"
            ],
            [
             0.6,
             "#e6f5d0"
            ],
            [
             0.7,
             "#b8e186"
            ],
            [
             0.8,
             "#7fbc41"
            ],
            [
             0.9,
             "#4d9221"
            ],
            [
             1,
             "#276419"
            ]
           ],
           "sequential": [
            [
             0,
             "#0d0887"
            ],
            [
             0.1111111111111111,
             "#46039f"
            ],
            [
             0.2222222222222222,
             "#7201a8"
            ],
            [
             0.3333333333333333,
             "#9c179e"
            ],
            [
             0.4444444444444444,
             "#bd3786"
            ],
            [
             0.5555555555555556,
             "#d8576b"
            ],
            [
             0.6666666666666666,
             "#ed7953"
            ],
            [
             0.7777777777777778,
             "#fb9f3a"
            ],
            [
             0.8888888888888888,
             "#fdca26"
            ],
            [
             1,
             "#f0f921"
            ]
           ],
           "sequentialminus": [
            [
             0,
             "#0d0887"
            ],
            [
             0.1111111111111111,
             "#46039f"
            ],
            [
             0.2222222222222222,
             "#7201a8"
            ],
            [
             0.3333333333333333,
             "#9c179e"
            ],
            [
             0.4444444444444444,
             "#bd3786"
            ],
            [
             0.5555555555555556,
             "#d8576b"
            ],
            [
             0.6666666666666666,
             "#ed7953"
            ],
            [
             0.7777777777777778,
             "#fb9f3a"
            ],
            [
             0.8888888888888888,
             "#fdca26"
            ],
            [
             1,
             "#f0f921"
            ]
           ]
          },
          "colorway": [
           "#636efa",
           "#EF553B",
           "#00cc96",
           "#ab63fa",
           "#FFA15A",
           "#19d3f3",
           "#FF6692",
           "#B6E880",
           "#FF97FF",
           "#FECB52"
          ],
          "font": {
           "color": "#2a3f5f"
          },
          "geo": {
           "bgcolor": "white",
           "lakecolor": "white",
           "landcolor": "#E5ECF6",
           "showlakes": true,
           "showland": true,
           "subunitcolor": "white"
          },
          "hoverlabel": {
           "align": "left"
          },
          "hovermode": "closest",
          "mapbox": {
           "style": "light"
          },
          "paper_bgcolor": "white",
          "plot_bgcolor": "#E5ECF6",
          "polar": {
           "angularaxis": {
            "gridcolor": "white",
            "linecolor": "white",
            "ticks": ""
           },
           "bgcolor": "#E5ECF6",
           "radialaxis": {
            "gridcolor": "white",
            "linecolor": "white",
            "ticks": ""
           }
          },
          "scene": {
           "xaxis": {
            "backgroundcolor": "#E5ECF6",
            "gridcolor": "white",
            "gridwidth": 2,
            "linecolor": "white",
            "showbackground": true,
            "ticks": "",
            "zerolinecolor": "white"
           },
           "yaxis": {
            "backgroundcolor": "#E5ECF6",
            "gridcolor": "white",
            "gridwidth": 2,
            "linecolor": "white",
            "showbackground": true,
            "ticks": "",
            "zerolinecolor": "white"
           },
           "zaxis": {
            "backgroundcolor": "#E5ECF6",
            "gridcolor": "white",
            "gridwidth": 2,
            "linecolor": "white",
            "showbackground": true,
            "ticks": "",
            "zerolinecolor": "white"
           }
          },
          "shapedefaults": {
           "line": {
            "color": "#2a3f5f"
           }
          },
          "ternary": {
           "aaxis": {
            "gridcolor": "white",
            "linecolor": "white",
            "ticks": ""
           },
           "baxis": {
            "gridcolor": "white",
            "linecolor": "white",
            "ticks": ""
           },
           "bgcolor": "#E5ECF6",
           "caxis": {
            "gridcolor": "white",
            "linecolor": "white",
            "ticks": ""
           }
          },
          "title": {
           "x": 0.05
          },
          "xaxis": {
           "automargin": true,
           "gridcolor": "white",
           "linecolor": "white",
           "ticks": "",
           "title": {
            "standoff": 15
           },
           "zerolinecolor": "white",
           "zerolinewidth": 2
          },
          "yaxis": {
           "automargin": true,
           "gridcolor": "white",
           "linecolor": "white",
           "ticks": "",
           "title": {
            "standoff": 15
           },
           "zerolinecolor": "white",
           "zerolinewidth": 2
          }
         }
        },
        "xaxis": {
         "anchor": "y",
         "domain": [
          0,
          1
         ]
        },
        "yaxis": {
         "anchor": "x",
         "domain": [
          0,
          1
         ]
        }
       }
      }
     },
     "metadata": {},
     "output_type": "display_data"
    }
   ],
   "source": [
    "fig"
   ]
  },
  {
   "cell_type": "code",
   "execution_count": 21,
   "metadata": {},
   "outputs": [
    {
     "data": {
      "text/html": [
       "<div>\n",
       "<style scoped>\n",
       "    .dataframe tbody tr th:only-of-type {\n",
       "        vertical-align: middle;\n",
       "    }\n",
       "\n",
       "    .dataframe tbody tr th {\n",
       "        vertical-align: top;\n",
       "    }\n",
       "\n",
       "    .dataframe thead th {\n",
       "        text-align: right;\n",
       "    }\n",
       "</style>\n",
       "<table border=\"1\" class=\"dataframe\">\n",
       "  <thead>\n",
       "    <tr style=\"text-align: right;\">\n",
       "      <th></th>\n",
       "      <th>day</th>\n",
       "      <th>period</th>\n",
       "    </tr>\n",
       "    <tr>\n",
       "      <th>week</th>\n",
       "      <th></th>\n",
       "      <th></th>\n",
       "    </tr>\n",
       "  </thead>\n",
       "  <tbody>\n",
       "    <tr>\n",
       "      <th>6</th>\n",
       "      <td>0</td>\n",
       "      <td>2</td>\n",
       "    </tr>\n",
       "    <tr>\n",
       "      <th>6</th>\n",
       "      <td>2</td>\n",
       "      <td>2</td>\n",
       "    </tr>\n",
       "    <tr>\n",
       "      <th>6</th>\n",
       "      <td>3</td>\n",
       "      <td>2</td>\n",
       "    </tr>\n",
       "    <tr>\n",
       "      <th>6</th>\n",
       "      <td>4</td>\n",
       "      <td>2</td>\n",
       "    </tr>\n",
       "    <tr>\n",
       "      <th>6</th>\n",
       "      <td>5</td>\n",
       "      <td>2</td>\n",
       "    </tr>\n",
       "  </tbody>\n",
       "</table>\n",
       "</div>"
      ],
      "text/plain": [
       "      day  period\n",
       "week             \n",
       "6       0       2\n",
       "6       2       2\n",
       "6       3       2\n",
       "6       4       2\n",
       "6       5       2"
      ]
     },
     "execution_count": 21,
     "metadata": {},
     "output_type": "execute_result"
    }
   ],
   "source": [
    "df_result.loc['D']"
   ]
  },
  {
   "cell_type": "code",
   "execution_count": 16,
   "metadata": {},
   "outputs": [
    {
     "data": {
      "text/html": [
       "<div>\n",
       "<style scoped>\n",
       "    .dataframe tbody tr th:only-of-type {\n",
       "        vertical-align: middle;\n",
       "    }\n",
       "\n",
       "    .dataframe tbody tr th {\n",
       "        vertical-align: top;\n",
       "    }\n",
       "\n",
       "    .dataframe thead th {\n",
       "        text-align: right;\n",
       "    }\n",
       "</style>\n",
       "<table border=\"1\" class=\"dataframe\">\n",
       "  <thead>\n",
       "    <tr style=\"text-align: right;\">\n",
       "      <th></th>\n",
       "      <th></th>\n",
       "      <th>day</th>\n",
       "      <th>period</th>\n",
       "    </tr>\n",
       "    <tr>\n",
       "      <th>Person</th>\n",
       "      <th>week</th>\n",
       "      <th></th>\n",
       "      <th></th>\n",
       "    </tr>\n",
       "  </thead>\n",
       "  <tbody>\n",
       "    <tr>\n",
       "      <th>B</th>\n",
       "      <th>6</th>\n",
       "      <td>5</td>\n",
       "      <td>0</td>\n",
       "    </tr>\n",
       "    <tr>\n",
       "      <th>C</th>\n",
       "      <th>6</th>\n",
       "      <td>5</td>\n",
       "      <td>1</td>\n",
       "    </tr>\n",
       "    <tr>\n",
       "      <th>D</th>\n",
       "      <th>6</th>\n",
       "      <td>5</td>\n",
       "      <td>2</td>\n",
       "    </tr>\n",
       "    <tr>\n",
       "      <th>E</th>\n",
       "      <th>6</th>\n",
       "      <td>5</td>\n",
       "      <td>1</td>\n",
       "    </tr>\n",
       "    <tr>\n",
       "      <th>F</th>\n",
       "      <th>6</th>\n",
       "      <td>5</td>\n",
       "      <td>0</td>\n",
       "    </tr>\n",
       "    <tr>\n",
       "      <th>G</th>\n",
       "      <th>6</th>\n",
       "      <td>5</td>\n",
       "      <td>0</td>\n",
       "    </tr>\n",
       "    <tr>\n",
       "      <th>H</th>\n",
       "      <th>6</th>\n",
       "      <td>5</td>\n",
       "      <td>1</td>\n",
       "    </tr>\n",
       "    <tr>\n",
       "      <th>I</th>\n",
       "      <th>6</th>\n",
       "      <td>5</td>\n",
       "      <td>1</td>\n",
       "    </tr>\n",
       "    <tr>\n",
       "      <th>J</th>\n",
       "      <th>6</th>\n",
       "      <td>5</td>\n",
       "      <td>2</td>\n",
       "    </tr>\n",
       "    <tr>\n",
       "      <th>M</th>\n",
       "      <th>6</th>\n",
       "      <td>5</td>\n",
       "      <td>2</td>\n",
       "    </tr>\n",
       "  </tbody>\n",
       "</table>\n",
       "</div>"
      ],
      "text/plain": [
       "             day  period\n",
       "Person week             \n",
       "B      6       5       0\n",
       "C      6       5       1\n",
       "D      6       5       2\n",
       "E      6       5       1\n",
       "F      6       5       0\n",
       "G      6       5       0\n",
       "H      6       5       1\n",
       "I      6       5       1\n",
       "J      6       5       2\n",
       "M      6       5       2"
      ]
     },
     "execution_count": 16,
     "metadata": {},
     "output_type": "execute_result"
    }
   ],
   "source": [
    "df_result.query('day==5')"
   ]
  },
  {
   "cell_type": "code",
   "execution_count": null,
   "metadata": {},
   "outputs": [
    {
     "ename": "",
     "evalue": "",
     "output_type": "error",
     "traceback": [
      "\u001b[1;31mFailed to start the Kernel. \n",
      "\u001b[1;31m[notice] A new release of pip available: 22.3.1 -> 23.0.1\n",
      "\u001b[1;31m[notice] To update, run: pip3 install --upgrade pip. \n",
      "\u001b[1;31mView Jupyter <a href='command:jupyter.viewOutput'>log</a> for further details."
     ]
    }
   ],
   "source": [
    "if 1 <= 5<= 1440:\n",
    "    print('si')\n",
    "else:\n",
    "    print('no')"
   ]
  },
  {
   "cell_type": "code",
   "execution_count": null,
   "metadata": {},
   "outputs": [],
   "source": []
  }
 ],
 "metadata": {
  "kernelspec": {
   "display_name": "Python 3",
   "language": "python",
   "name": "python3"
  },
  "language_info": {
   "codemirror_mode": {
    "name": "ipython",
    "version": 3
   },
   "file_extension": ".py",
   "mimetype": "text/x-python",
   "name": "python",
   "nbconvert_exporter": "python",
   "pygments_lexer": "ipython3",
   "version": "3.11.2"
  },
  "orig_nbformat": 4,
  "vscode": {
   "interpreter": {
    "hash": "6965dca881211d769173536598ef2476c98c187b3f65063bfd63cafabe9d98fb"
   }
  }
 },
 "nbformat": 4,
 "nbformat_minor": 2
}
