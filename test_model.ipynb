{
 "cells": [
  {
   "cell_type": "code",
   "execution_count": 5,
   "metadata": {},
   "outputs": [],
   "source": [
    "from models.snackpack import Snackpack\n",
    "import pandas as pd"
   ]
  },
  {
   "cell_type": "code",
   "execution_count": 6,
   "metadata": {},
   "outputs": [],
   "source": [
    "df_products = pd.read_csv(\"data\\Productos.csv\", usecols=[0,1,2,3])\n",
    "\n",
    "volumne_max = 180\n",
    "weight_max = 40"
   ]
  },
  {
   "cell_type": "code",
   "execution_count": 7,
   "metadata": {},
   "outputs": [
    {
     "ename": "TypeError",
     "evalue": "Snackpack.parameters() takes 2 positional arguments but 4 were given",
     "output_type": "error",
     "traceback": [
      "\u001b[1;31m---------------------------------------------------------------------------\u001b[0m",
      "\u001b[1;31mTypeError\u001b[0m                                 Traceback (most recent call last)",
      "Cell \u001b[1;32mIn[7], line 2\u001b[0m\n\u001b[0;32m      1\u001b[0m modelo \u001b[39m=\u001b[39m Snackpack()\n\u001b[1;32m----> 2\u001b[0m modelo\u001b[39m.\u001b[39;49mparameters(df_products, volumne_max, weight_max)\n\u001b[0;32m      3\u001b[0m modelo\u001b[39m.\u001b[39mvariables()\n\u001b[0;32m      4\u001b[0m modelo\u001b[39m.\u001b[39mconstrains()\n",
      "\u001b[1;31mTypeError\u001b[0m: Snackpack.parameters() takes 2 positional arguments but 4 were given"
     ]
    }
   ],
   "source": [
    "modelo = Snackpack()\n",
    "modelo.parameters(df_products, volumne_max, weight_max)\n",
    "modelo.variables()\n",
    "modelo.constrains()\n",
    "modelo.objetive()\n",
    "modelo.run_model()"
   ]
  },
  {
   "cell_type": "code",
   "execution_count": 4,
   "metadata": {},
   "outputs": [
    {
     "name": "stdout",
     "output_type": "stream",
     "text": [
      "selected items: ['A', 'C', 'E', 'G', 'H', 'K', 'N']\n"
     ]
    },
    {
     "data": {
      "text/plain": [
       "['A', 'C', 'E', 'G', 'H', 'K', 'N']"
      ]
     },
     "execution_count": 4,
     "metadata": {},
     "output_type": "execute_result"
    }
   ],
   "source": [
    "modelo.print_result()"
   ]
  },
  {
   "cell_type": "code",
   "execution_count": null,
   "metadata": {},
   "outputs": [],
   "source": []
  }
 ],
 "metadata": {
  "kernelspec": {
   "display_name": "Python 3",
   "language": "python",
   "name": "python3"
  },
  "language_info": {
   "codemirror_mode": {
    "name": "ipython",
    "version": 3
   },
   "file_extension": ".py",
   "mimetype": "text/x-python",
   "name": "python",
   "nbconvert_exporter": "python",
   "pygments_lexer": "ipython3",
   "version": "3.10.9"
  },
  "orig_nbformat": 4,
  "vscode": {
   "interpreter": {
    "hash": "6965dca881211d769173536598ef2476c98c187b3f65063bfd63cafabe9d98fb"
   }
  }
 },
 "nbformat": 4,
 "nbformat_minor": 2
}
